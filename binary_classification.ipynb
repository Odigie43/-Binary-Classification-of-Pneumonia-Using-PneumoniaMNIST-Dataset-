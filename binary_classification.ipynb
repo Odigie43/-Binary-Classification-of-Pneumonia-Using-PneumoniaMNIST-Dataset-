{
  "nbformat": 4,
  "nbformat_minor": 0,
  "metadata": {
    "colab": {
      "provenance": [],
      "include_colab_link": true
    },
    "kernelspec": {
      "name": "python3",
      "display_name": "Python 3"
    },
    "language_info": {
      "name": "python"
    }
  },
  "cells": [
    {
      "cell_type": "markdown",
      "metadata": {
        "id": "view-in-github",
        "colab_type": "text"
      },
      "source": [
        "<a href=\"https://colab.research.google.com/github/Odigie43/-Binary-Classification-of-Pneumonia-Using-PneumoniaMNIST-Dataset-/blob/main/binary_classification.ipynb\" target=\"_parent\"><img src=\"https://colab.research.google.com/assets/colab-badge.svg\" alt=\"Open In Colab\"/></a>"
      ]
    },
    {
      "cell_type": "code",
      "source": [
        "import keras\n",
        "keras.__version__"
      ],
      "metadata": {
        "colab": {
          "base_uri": "https://localhost:8080/",
          "height": 35
        },
        "id": "cGhJu-OZq6_x",
        "outputId": "4a3ddae6-217d-43ad-98fb-af0428498e12"
      },
      "execution_count": null,
      "outputs": [
        {
          "output_type": "execute_result",
          "data": {
            "text/plain": [
              "'2.15.0'"
            ],
            "application/vnd.google.colaboratory.intrinsic+json": {
              "type": "string"
            }
          },
          "metadata": {},
          "execution_count": 5
        }
      ]
    },
    {
      "cell_type": "code",
      "source": [
        "# Built-in Imports\n",
        "import random"
      ],
      "metadata": {
        "id": "JdaD65C_qQ6I"
      },
      "execution_count": null,
      "outputs": []
    },
    {
      "cell_type": "code",
      "source": [
        "# Library Imports\n",
        "import numpy as np\n",
        "import pandas as pd\n",
        "import matplotlib.pyplot as plt\n",
        "from sklearn.metrics import classification_report, confusion_matrix, ConfusionMatrixDisplay"
      ],
      "metadata": {
        "id": "HjFLk_E7qV-H"
      },
      "execution_count": null,
      "outputs": []
    },
    {
      "cell_type": "code",
      "source": [
        "# Keras Imports\n",
        "from tensorflow.keras import layers\n",
        "from tensorflow.keras.models import Model\n",
        "from tensorflow.keras.optimizers import SGD\n",
        "from tensorflow.keras.utils import get_file, to_categorical\n",
        "from tensorflow.keras.preprocessing.image import ImageDataGenerator"
      ],
      "metadata": {
        "id": "iLJJDIldqy8T"
      },
      "execution_count": null,
      "outputs": []
    },
    {
      "cell_type": "code",
      "source": [
        "DATA_NAME = \"PneumoniaMNIST\""
      ],
      "metadata": {
        "id": "6bq4OCAoq5wG"
      },
      "execution_count": null,
      "outputs": []
    },
    {
      "cell_type": "code",
      "source": [
        "!wget https://raw.githubusercontent.com/MedMNIST/MedMNIST/main/medmnist/info.py\n",
        "from info import INFO\n",
        "data = INFO[DATA_NAME.lower()]"
      ],
      "metadata": {
        "colab": {
          "base_uri": "https://localhost:8080/"
        },
        "id": "6aXE7IDfrdxY",
        "outputId": "72f0ebd5-1c47-4363-a4df-8d264427926e"
      },
      "execution_count": null,
      "outputs": [
        {
          "output_type": "stream",
          "name": "stdout",
          "text": [
            "--2024-03-28 07:20:04--  https://raw.githubusercontent.com/MedMNIST/MedMNIST/main/medmnist/info.py\n",
            "Resolving raw.githubusercontent.com (raw.githubusercontent.com)... 185.199.108.133, 185.199.109.133, 185.199.110.133, ...\n",
            "Connecting to raw.githubusercontent.com (raw.githubusercontent.com)|185.199.108.133|:443... connected.\n",
            "HTTP request sent, awaiting response... 200 OK\n",
            "Length: 27766 (27K) [text/plain]\n",
            "Saving to: ‘info.py.2’\n",
            "\n",
            "info.py.2           100%[===================>]  27.12K  --.-KB/s    in 0.009s  \n",
            "\n",
            "2024-03-28 07:20:04 (3.03 MB/s) - ‘info.py.2’ saved [27766/27766]\n",
            "\n"
          ]
        }
      ]
    },
    {
      "cell_type": "code",
      "source": [
        "# Downloads the dataset file hosted on Zenodo.\n",
        "file_path = get_file(fname=\"dataset.npz\",\n",
        "                     origin=data[\"url\"],\n",
        "                     md5_hash=data[\"MD5\"])"
      ],
      "metadata": {
        "colab": {
          "base_uri": "https://localhost:8080/"
        },
        "id": "ud-oWzOdrrY_",
        "outputId": "0a5c7893-4ae7-4366-89d2-992c2dd09cb0"
      },
      "execution_count": null,
      "outputs": [
        {
          "output_type": "stream",
          "name": "stdout",
          "text": [
            "A local file was found, but it seems to be incomplete or outdated because the md5 file hash does not match the original value of 28209eda62fecd6e6a2d98b1501bb15f so we will re-download the data.\n",
            "Downloading data from https://zenodo.org/records/10519652/files/pneumoniamnist.npz?download=1\n",
            "4170669/4170669 [==============================] - 8s 2us/step\n"
          ]
        }
      ]
    },
    {
      "cell_type": "code",
      "source": [
        "# Loads the downloaded NumPy object.\n",
        "dataset = np.load(file_path)\n",
        "\n",
        "# Gets the training images and labels from the NumPy object.\n",
        "train_x = dataset[\"train_images\"]\n",
        "train_y = dataset[\"train_labels\"]\n",
        "\n",
        "# Gets the validation images and labels from the NumPy object.\n",
        "val_x = dataset[\"val_images\"]\n",
        "val_y = dataset[\"val_labels\"]\n",
        "\n",
        "# Gets the testing images and labels from the NumPy object.\n",
        "test_x = dataset[\"test_images\"]\n",
        "test_y = dataset[\"test_labels\"]"
      ],
      "metadata": {
        "id": "44BkZG1Dsc7g"
      },
      "execution_count": null,
      "outputs": []
    },
    {
      "cell_type": "code",
      "source": [
        "# Declares a list of labels.\n",
        "labels = list(data[\"label\"].values()) + [\"total\"]\n",
        "\n",
        "# Gets the counts for each label in each of our datasets.\n",
        "_, train_counts = np.unique(train_y, return_counts=True)\n",
        "_, val_counts = np.unique(val_y, return_counts=True)\n",
        "_, test_counts = np.unique(test_y, return_counts=True)\n",
        "\n",
        "# Prints the counts for each label from each dataset.\n",
        "print(pd.DataFrame(list(zip(np.append(train_counts, [sum(train_counts)]),\n",
        "                            np.append(val_counts, [sum(val_counts)]),\n",
        "                            np.append(test_counts, [sum(test_counts)]))),\n",
        "                   index=labels, columns=[\"Train\", \"Val\", \"Test\"]))"
      ],
      "metadata": {
        "colab": {
          "base_uri": "https://localhost:8080/"
        },
        "id": "QitbGfawsqhE",
        "outputId": "0924e39c-c612-46e2-a8aa-e9b69224d469"
      },
      "execution_count": null,
      "outputs": [
        {
          "output_type": "stream",
          "name": "stdout",
          "text": [
            "           Train  Val  Test\n",
            "normal      1214  135   234\n",
            "pneumonia   3494  389   390\n",
            "total       4708  524   624\n"
          ]
        }
      ]
    },
    {
      "cell_type": "code",
      "source": [
        "# Displays a random image from training dataset.\n",
        "index = random.randint(0, len(train_x))\n",
        "print(f\"{index}: {labels[train_y[index][0]]}\")\n",
        "plt.imshow(train_x[random.randint(0, len(train_x))])"
      ],
      "metadata": {
        "colab": {
          "base_uri": "https://localhost:8080/",
          "height": 465
        },
        "id": "5acEy0z-s-6N",
        "outputId": "2a2d297e-3fd9-42ac-d9f8-849be6ef37bb"
      },
      "execution_count": null,
      "outputs": [
        {
          "output_type": "stream",
          "name": "stdout",
          "text": [
            "1028: normal\n"
          ]
        },
        {
          "output_type": "execute_result",
          "data": {
            "text/plain": [
              "<matplotlib.image.AxesImage at 0x7d4493c09de0>"
            ]
          },
          "metadata": {},
          "execution_count": 54
        },
        {
          "output_type": "display_data",
          "data": {
            "text/plain": [
              "<Figure size 640x480 with 1 Axes>"
            ],
            "image/png": "[encoded data removed]"
          },
          "metadata": {}
        }
      ]
    },
    {
      "cell_type": "code",
      "source": [
        "len(train_y)"
      ],
      "metadata": {
        "colab": {
          "base_uri": "https://localhost:8080/"
        },
        "id": "nj7JmtfwtcqF",
        "outputId": "57f04662-04a9-4ab3-ac2d-3c4ad30dcdd4"
      },
      "execution_count": null,
      "outputs": [
        {
          "output_type": "execute_result",
          "data": {
            "text/plain": [
              "4708"
            ]
          },
          "metadata": {},
          "execution_count": 55
        }
      ]
    },
    {
      "cell_type": "code",
      "source": [
        "len(test_y)"
      ],
      "metadata": {
        "colab": {
          "base_uri": "https://localhost:8080/"
        },
        "id": "-Tj4wJrstswe",
        "outputId": "3e05c7e9-9911-4f56-ba25-e0d0876ef166"
      },
      "execution_count": null,
      "outputs": [
        {
          "output_type": "execute_result",
          "data": {
            "text/plain": [
              "624"
            ]
          },
          "metadata": {},
          "execution_count": 56
        }
      ]
    },
    {
      "cell_type": "code",
      "source": [
        "len(val_y)"
      ],
      "metadata": {
        "colab": {
          "base_uri": "https://localhost:8080/"
        },
        "id": "6rBbj-JOt7BB",
        "outputId": "4873cbf7-97f8-4161-aae3-c7d719de5793"
      },
      "execution_count": null,
      "outputs": [
        {
          "output_type": "execute_result",
          "data": {
            "text/plain": [
              "524"
            ]
          },
          "metadata": {},
          "execution_count": 57
        }
      ]
    },
    {
      "cell_type": "code",
      "source": [
        "# Defines the data generator that will be used to augment the images as they are loaded.\n",
        "data_generator = ImageDataGenerator(featurewise_center=True,\n",
        "                                    featurewise_std_normalization=True,\n",
        "                                    horizontal_flip=True,\n",
        "                                    vertical_flip=True)"
      ],
      "metadata": {
        "id": "ewvZ0IPbuOnc"
      },
      "execution_count": null,
      "outputs": []
    },
    {
      "cell_type": "code",
      "source": [
        "import numpy as np\n",
        "\n",
        "# Assuming train_x and val_x are your training and validation datasets\n",
        "train_x = train_x.reshape(train_x.shape[0], train_x.shape[1], train_x.shape[2], 1)\n",
        "val_x = val_x.reshape(val_x.shape[0], val_x.shape[1], val_x.shape[2], 1)\n",
        "\n",
        "# Fit the data generator\n",
        "data_generator.fit(np.append(train_x, val_x, axis=0))\n"
      ],
      "metadata": {
        "id": "LZ46q5HawMFY"
      },
      "execution_count": null,
      "outputs": []
    },
    {
      "cell_type": "code",
      "source": [
        "# Define the input layer of the model with the size of an image.\n",
        "input = layers.Input(shape=train_x[0].shape)\n",
        "\n",
        "# Defines the first convolutional layer with max pooling.\n",
        "conv_1 = layers.Conv2D(filters=32, kernel_size=3, activation=\"relu\")(input)\n",
        "pool_1 = layers.MaxPool2D(pool_size=(2, 2))(conv_1)\n",
        "\n",
        "# Defines the second convolutional layer with max pooling.\n",
        "conv_2 = layers.Conv2D(filters=32, kernel_size=3, activation=\"relu\")(pool_1)\n",
        "pool_2 = layers.MaxPool2D(pool_size=(2, 2))(conv_2)\n",
        "\n",
        "# Flattens the outputs of the convolutoonal layers into a one dimensional array.\n",
        "flatten = layers.Flatten()(pool_2)\n",
        "\n",
        "# Defines the output layer of the model a number of output nodes equal to the number of classes.\n",
        "output = layers.Dense(units=len(np.unique(train_y)), activation=\"softmax\")(flatten)\n",
        "\n",
        "# Initilises the defined model and prints summary of the model.\n",
        "model = Model(inputs=input, outputs=output, name=\"Model\")\n",
        "model.summary()"
      ],
      "metadata": {
        "colab": {
          "base_uri": "https://localhost:8080/"
        },
        "id": "P0WV0PZ-wwIl",
        "outputId": "047857d4-8019-45a4-f99a-d0225e2bcafe"
      },
      "execution_count": null,
      "outputs": [
        {
          "output_type": "stream",
          "name": "stdout",
          "text": [
            "Model: \"Model\"\n",
            "_________________________________________________________________\n",
            " Layer (type)                Output Shape              Param #   \n",
            "=================================================================\n",
            " input_6 (InputLayer)        [(None, 28, 28, 1)]       0         \n",
            "                                                                 \n",
            " conv2d_10 (Conv2D)          (None, 26, 26, 32)        320       \n",
            "                                                                 \n",
            " max_pooling2d_10 (MaxPooli  (None, 13, 13, 32)        0         \n",
            " ng2D)                                                           \n",
            "                                                                 \n",
            " conv2d_11 (Conv2D)          (None, 11, 11, 32)        9248      \n",
            "                                                                 \n",
            " max_pooling2d_11 (MaxPooli  (None, 5, 5, 32)          0         \n",
            " ng2D)                                                           \n",
            "                                                                 \n",
            " flatten_5 (Flatten)         (None, 800)               0         \n",
            "                                                                 \n",
            " dense_5 (Dense)             (None, 2)                 1602      \n",
            "                                                                 \n",
            "=================================================================\n",
            "Total params: 11170 (43.63 KB)\n",
            "Trainable params: 11170 (43.63 KB)\n",
            "Non-trainable params: 0 (0.00 Byte)\n",
            "_________________________________________________________________\n"
          ]
        }
      ]
    },
    {
      "cell_type": "code",
      "source": [
        "from tensorflow.keras import layers, Model\n",
        "import numpy as np\n",
        "\n",
        "# Define the input layer of the model with the size of an image.\n",
        "input_layer = layers.Input(shape=train_x[0].shape)\n",
        "\n",
        "# Defines the first convolutional layer for feature extraction.\n",
        "conv1 = layers.Conv2D(filters=32, kernel_size=3, activation=\"relu\")(input_layer)\n",
        "# Pooling layer to reduce dimensionality after the first convolutional layer.\n",
        "pool1 = layers.MaxPooling2D(pool_size=(2, 2))(conv1)\n",
        "\n",
        "# Defines the second convolutional layer for additional feature extraction.\n",
        "conv2 = layers.Conv2D(filters=64, kernel_size=3, activation=\"relu\")(pool1)\n",
        "# Pooling layer to reduce dimensionality after the second convolutional layer.\n",
        "pool2 = layers.MaxPooling2D(pool_size=(2, 2))(conv2)\n",
        "\n",
        "# Flatten the outputs of the convolutional layers into a one-dimensional array.\n",
        "flatten = layers.Flatten()(pool2)\n",
        "\n",
        "# Defines the output layer of the model for classification.\n",
        "# For binary classification, use a single output unit and sigmoid activation.\n",
        "output_layer = layers.Dense(units=1, activation=\"sigmoid\")(flatten)\n",
        "\n",
        "# Initialize the defined model and print a summary of the model.\n",
        "model = Model(inputs=input_layer, outputs=output_layer, name=\"Binary_Classification_Model\")\n",
        "model.summary()\n"
      ],
      "metadata": {
        "colab": {
          "base_uri": "https://localhost:8080/"
        },
        "id": "xTthTgvIyo6C",
        "outputId": "2b692f31-ea53-4940-a14d-52e59dc9e963"
      },
      "execution_count": null,
      "outputs": [
        {
          "output_type": "stream",
          "name": "stdout",
          "text": [
            "Model: \"Binary_Classification_Model\"\n",
            "_________________________________________________________________\n",
            " Layer (type)                Output Shape              Param #   \n",
            "=================================================================\n",
            " input_7 (InputLayer)        [(None, 28, 28, 1)]       0         \n",
            "                                                                 \n",
            " conv2d_12 (Conv2D)          (None, 26, 26, 32)        320       \n",
            "                                                                 \n",
            " max_pooling2d_12 (MaxPooli  (None, 13, 13, 32)        0         \n",
            " ng2D)                                                           \n",
            "                                                                 \n",
            " conv2d_13 (Conv2D)          (None, 11, 11, 64)        18496     \n",
            "                                                                 \n",
            " max_pooling2d_13 (MaxPooli  (None, 5, 5, 64)          0         \n",
            " ng2D)                                                           \n",
            "                                                                 \n",
            " flatten_6 (Flatten)         (None, 1600)              0         \n",
            "                                                                 \n",
            " dense_6 (Dense)             (None, 1)                 1601      \n",
            "                                                                 \n",
            "=================================================================\n",
            "Total params: 20417 (79.75 KB)\n",
            "Trainable params: 20417 (79.75 KB)\n",
            "Non-trainable params: 0 (0.00 Byte)\n",
            "_________________________________________________________________\n"
          ]
        }
      ]
    },
    {
      "cell_type": "code",
      "source": [
        "# Defines the parameters used during training.\n",
        "BATCH_SIZE = 32  # Reducing batch size from 64 to 32 for better generalization\n",
        "NUM_EPOCHS = 20  # Increasing the number of epochs from 10  to 20 to  allow for more training iterations\n",
        "LEARNING_RATE = 0.001  # Keeping the learning rate as 0.001 (adjust as needed)\n",
        "\n",
        "# Additional Regularization and Optimization Techniques\n",
        "DROPOUT_RATE = 0.25  # Incorporating dropout regularization with a dropout rate of 0.25\n",
        "WEIGHT_DECAY = 1e-4  # Introducing weight decay (L2 regularization) with a coefficient of 1e-4\n",
        "\n",
        "# Data Augmentation Parameters\n",
        "# Define parameters for data augmentation such as rotation, width and height shifts, zoom range, etc.\n",
        "DATA_AUGMENTATION = True  # Enable data augmentation\n",
        "ROTATION_RANGE = 20  # Range for random rotations\n",
        "WIDTH_SHIFT_RANGE = 0.1  # Fraction of total width for random horizontal shifts\n",
        "HEIGHT_SHIFT_RANGE = 0.1  # Fraction of total height for random vertical shifts\n",
        "ZOOM_RANGE = 0.2  # Range for random zoom\n",
        "HORIZONTAL_FLIP = True  # Allow horizontal flipping of images\n",
        "\n",
        "# Define the parameters used during training.\n",
        "TRAINING_PARAMETERS = {\n",
        "    \"BATCH_SIZE\": BATCH_SIZE,\n",
        "    \"NUM_EPOCHS\": NUM_EPOCHS,\n",
        "    \"LEARNING_RATE\": LEARNING_RATE,\n",
        "    \"DROPOUT_RATE\": DROPOUT_RATE,\n",
        "    \"WEIGHT_DECAY\": WEIGHT_DECAY,\n",
        "    \"DATA_AUGMENTATION\": DATA_AUGMENTATION,\n",
        "    \"ROTATION_RANGE\": ROTATION_RANGE,\n",
        "    \"WIDTH_SHIFT_RANGE\": WIDTH_SHIFT_RANGE,\n",
        "    \"HEIGHT_SHIFT_RANGE\": HEIGHT_SHIFT_RANGE,\n",
        "    \"ZOOM_RANGE\": ZOOM_RANGE,\n",
        "    \"HORIZONTAL_FLIP\": HORIZONTAL_FLIP\n",
        "}\n",
        "\n",
        "# Print the updated training parameters\n",
        "print(\"Updated Training Parameters:\")\n",
        "for key, value in TRAINING_PARAMETERS.items():\n",
        "    print(f\"{key}: {value}\")\n"
      ],
      "metadata": {
        "colab": {
          "base_uri": "https://localhost:8080/"
        },
        "id": "HbZjl0U-0tUR",
        "outputId": "28af1269-877b-4b13-c8a4-2805162d756e"
      },
      "execution_count": null,
      "outputs": [
        {
          "output_type": "stream",
          "name": "stdout",
          "text": [
            "Updated Training Parameters:\n",
            "BATCH_SIZE: 32\n",
            "NUM_EPOCHS: 20\n",
            "LEARNING_RATE: 0.001\n",
            "DROPOUT_RATE: 0.25\n",
            "WEIGHT_DECAY: 0.0001\n",
            "DATA_AUGMENTATION: True\n",
            "ROTATION_RANGE: 20\n",
            "WIDTH_SHIFT_RANGE: 0.1\n",
            "HEIGHT_SHIFT_RANGE: 0.1\n",
            "ZOOM_RANGE: 0.2\n",
            "HORIZONTAL_FLIP: True\n"
          ]
        }
      ]
    },
    {
      "cell_type": "code",
      "source": [
        "# Defines the optimiser used to adjust the model weights and compiles the model.\n",
        "optimiser = SGD(learning_rate=LEARNING_RATE)\n",
        "model.compile(optimizer=optimiser, loss=\"categorical_crossentropy\", metrics=[\"accuracy\"])"
      ],
      "metadata": {
        "id": "RNB87RC01CF3"
      },
      "execution_count": null,
      "outputs": []
    },
    {
      "cell_type": "code",
      "source": [
        "from tensorflow.keras.optimizers import SGD\n",
        "\n",
        "optimiser = SGD(learning_rate=LEARNING_RATE)\n",
        "model.compile(optimizer=optimiser, loss=\"binary_crossentropy\", metrics=[\"accuracy\"])\n"
      ],
      "metadata": {
        "id": "vw7vzR2h1Qnd"
      },
      "execution_count": null,
      "outputs": []
    },
    {
      "cell_type": "code",
      "source": [
        "# We use the data generator to pass the training and validation data to the model to train it.\n",
        "history = model.fit(data_generator.flow(train_x, to_categorical(train_y), batch_size=BATCH_SIZE),\n",
        "                    steps_per_epoch=len(train_x) / BATCH_SIZE,\n",
        "                    validation_data=data_generator.flow(val_x, to_categorical(val_y), batch_size=BATCH_SIZE),\n",
        "                    validation_steps=len(val_x) / BATCH_SIZE,\n",
        "                    epochs=NUM_EPOCHS)"
      ],
      "metadata": {
        "colab": {
          "base_uri": "https://localhost:8080/"
        },
        "id": "RMFRPrrN1cIa",
        "outputId": "e803e284-5d07-4a41-9505-d3ec624e10c7"
      },
      "execution_count": null,
      "outputs": [
        {
          "output_type": "stream",
          "name": "stdout",
          "text": [
            "Epoch 1/20\n",
            "147/147 [==============================] - 6s 37ms/step - loss: 0.6949 - accuracy: 0.5000 - val_loss: 0.6943 - val_accuracy: 0.5000\n",
            "Epoch 2/20\n",
            "147/147 [==============================] - 4s 28ms/step - loss: 0.6942 - accuracy: 0.5000 - val_loss: 0.6941 - val_accuracy: 0.5000\n",
            "Epoch 3/20\n",
            "147/147 [==============================] - 4s 30ms/step - loss: 0.6940 - accuracy: 0.5000 - val_loss: 0.6941 - val_accuracy: 0.5000\n",
            "Epoch 4/20\n",
            "147/147 [==============================] - 4s 28ms/step - loss: 0.6940 - accuracy: 0.5000 - val_loss: 0.6940 - val_accuracy: 0.5000\n",
            "Epoch 5/20\n",
            "147/147 [==============================] - 5s 34ms/step - loss: 0.6939 - accuracy: 0.5000 - val_loss: 0.6939 - val_accuracy: 0.5000\n",
            "Epoch 6/20\n",
            "147/147 [==============================] - 4s 27ms/step - loss: 0.6939 - accuracy: 0.5000 - val_loss: 0.6939 - val_accuracy: 0.5000\n",
            "Epoch 7/20\n",
            "147/147 [==============================] - 5s 31ms/step - loss: 0.6938 - accuracy: 0.5000 - val_loss: 0.6939 - val_accuracy: 0.5000\n",
            "Epoch 8/20\n",
            "147/147 [==============================] - 4s 28ms/step - loss: 0.6938 - accuracy: 0.5000 - val_loss: 0.6938 - val_accuracy: 0.5000\n",
            "Epoch 9/20\n",
            "147/147 [==============================] - 4s 28ms/step - loss: 0.6938 - accuracy: 0.5000 - val_loss: 0.6938 - val_accuracy: 0.5000\n",
            "Epoch 10/20\n",
            "147/147 [==============================] - 5s 35ms/step - loss: 0.6937 - accuracy: 0.5000 - val_loss: 0.6937 - val_accuracy: 0.5000\n",
            "Epoch 11/20\n",
            "147/147 [==============================] - 4s 29ms/step - loss: 0.6937 - accuracy: 0.5000 - val_loss: 0.6938 - val_accuracy: 0.5000\n",
            "Epoch 12/20\n",
            "147/147 [==============================] - 4s 29ms/step - loss: 0.6937 - accuracy: 0.5000 - val_loss: 0.6937 - val_accuracy: 0.5000\n",
            "Epoch 13/20\n",
            "147/147 [==============================] - 4s 27ms/step - loss: 0.6937 - accuracy: 0.5000 - val_loss: 0.6937 - val_accuracy: 0.5000\n",
            "Epoch 14/20\n",
            "147/147 [==============================] - 5s 35ms/step - loss: 0.6937 - accuracy: 0.5000 - val_loss: 0.6937 - val_accuracy: 0.5000\n",
            "Epoch 15/20\n",
            "147/147 [==============================] - 5s 35ms/step - loss: 0.6937 - accuracy: 0.5000 - val_loss: 0.6937 - val_accuracy: 0.5000\n",
            "Epoch 16/20\n",
            "147/147 [==============================] - 4s 27ms/step - loss: 0.6937 - accuracy: 0.5000 - val_loss: 0.6936 - val_accuracy: 0.5000\n",
            "Epoch 17/20\n",
            "147/147 [==============================] - 5s 34ms/step - loss: 0.6936 - accuracy: 0.5000 - val_loss: 0.6936 - val_accuracy: 0.5000\n",
            "Epoch 18/20\n",
            "147/147 [==============================] - 4s 28ms/step - loss: 0.6936 - accuracy: 0.5000 - val_loss: 0.6937 - val_accuracy: 0.5000\n",
            "Epoch 19/20\n",
            "147/147 [==============================] - 4s 30ms/step - loss: 0.6936 - accuracy: 0.5000 - val_loss: 0.6936 - val_accuracy: 0.5000\n",
            "Epoch 20/20\n",
            "147/147 [==============================] - 4s 28ms/step - loss: 0.6936 - accuracy: 0.5000 - val_loss: 0.6936 - val_accuracy: 0.5000\n"
          ]
        }
      ]
    },
    {
      "cell_type": "markdown",
      "source": [
        "To train the model, batches of training and validation data are passed through data generators in this code above. Based on batch and dataset sizes, it indicates the number of steps per epoch and validation steps. An agreed-upon number of epochs is used for the training procedure.\n",
        "\n",
        "The time required for each training step is shown below as 4s 28ms/step. Each step took about 4 seconds and 28 milliseconds in this instance. In training, a step is the model's processing of a single batch of data.\n",
        "\n",
        "\n",
        "loss: 0.6936: This is the value of the loss function that was determined throughout the training procedure using the training dataset. The loss function calculates the degree to which the actual target values and the model's predictions agree. This instance has a loss value of around 0.6936.\n",
        "\n",
        "\n",
        "accuracy: 0.5000: This shows how accurate the model was using the training set of data. The accuracy is the percentage of correctly categorised samples in the training dataset relative to the total number of samples. In this case, half of the training samples have an accuracy of 50%.\n",
        "\n",
        "\n",
        "The value of the loss function that was determined during the training phase using the validation dataset is indicated by the value val_loss: 0.6936. How well the model performs on unobserved data is tracked using the validation loss. A validation loss value of roughly 0.6936 is found in this instance.\n",
        "\n",
        "\n",
        "Val_accuracy = 0.5000: On the validation dataset, this shows how accurate the model is. Similar to the training accuracy, the validation accuracy shows the percentage of samples in the validation dataset that are properly identified out of all the samples. This instance also has a 50% validation accuracy.\n",
        "\n",
        "\n",
        "In conclusion, this output indicates that throughout training, there is little to no change in accuracy and loss over epochs for both training and validation. This could mean that there are problems with the model's architecture, like a basic model, or not enough training data, which are preventing the model from learning efficiently."
      ],
      "metadata": {
        "id": "6zBI0vUD8sgG"
      }
    },
    {
      "cell_type": "code",
      "source": [
        "# Plots the training and validation accuracy over the number of epochs.\n",
        "plt.plot(history.history['accuracy'])\n",
        "plt.plot(history.history['val_accuracy'])\n",
        "plt.title('Model Accuracy')\n",
        "plt.ylabel('Accuracy')\n",
        "plt.xlabel('Epoch')\n",
        "plt.legend(['Train', 'Validation'], loc='lower right')\n",
        "plt.show()"
      ],
      "metadata": {
        "colab": {
          "base_uri": "https://localhost:8080/",
          "height": 472
        },
        "id": "Fd3IYLff-EyY",
        "outputId": "bfbb73d3-7006-4c13-d049-43304205b00e"
      },
      "execution_count": null,
      "outputs": [
        {
          "output_type": "display_data",
          "data": {
            "text/plain": [
              "<Figure size 640x480 with 1 Axes>"
            ],
            "image/png": "[encoded data removed]"
          },
          "metadata": {}
        }
      ]
    },
    {
      "cell_type": "code",
      "source": [
        "# Plots the training and validation loss over the number of epochs.\n",
        "plt.plot(history.history['loss'])\n",
        "plt.plot(history.history['val_loss'])\n",
        "plt.title('Model Loss')\n",
        "plt.ylabel('Loss')\n",
        "plt.xlabel('Epoch')\n",
        "plt.legend(['Train', 'Validation'], loc='upper right')\n",
        "plt.show()"
      ],
      "metadata": {
        "colab": {
          "base_uri": "https://localhost:8080/",
          "height": 472
        },
        "id": "PkznYUo6_jlH",
        "outputId": "1b462248-04e1-42b0-f349-3df4305b9daa"
      },
      "execution_count": null,
      "outputs": [
        {
          "output_type": "display_data",
          "data": {
            "text/plain": [
              "<Figure size 640x480 with 1 Axes>"
            ],
            "image/png": "[encoded data removed]"
          },
          "metadata": {}
        }
      ]
    }
  ]
}